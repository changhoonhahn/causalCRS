{
 "cells": [
  {
   "cell_type": "markdown",
   "id": "4678f207",
   "metadata": {},
   "source": [
    "# validate $q^C_\\phi(Y\\,|\\,X)$ and $q^T_\\phi(Y\\,|\\,X)$ using test data"
   ]
  },
  {
   "cell_type": "code",
   "execution_count": 1,
   "id": "8c3d58b3",
   "metadata": {},
   "outputs": [],
   "source": [
    "import os, glob\n",
    "import numpy as np\n",
    "import astropy.table as aTable\n",
    "from tqdm.notebook import tqdm, trange"
   ]
  },
  {
   "cell_type": "code",
   "execution_count": 2,
   "id": "daaf77e2",
   "metadata": {},
   "outputs": [],
   "source": [
    "import torch"
   ]
  },
  {
   "cell_type": "code",
   "execution_count": 3,
   "id": "f7ed2827",
   "metadata": {},
   "outputs": [],
   "source": [
    "from tarp import get_drp_coverage"
   ]
  },
  {
   "cell_type": "code",
   "execution_count": 4,
   "id": "1f9461dd",
   "metadata": {},
   "outputs": [],
   "source": [
    "import corner as DFM\n",
    "# --- plotting ---\n",
    "import matplotlib as mpl\n",
    "import matplotlib.pyplot as plt\n",
    "mpl.rcParams['text.usetex'] = True\n",
    "mpl.rcParams['font.family'] = 'serif'\n",
    "mpl.rcParams['axes.linewidth'] = 1.5\n",
    "mpl.rcParams['axes.xmargin'] = 1\n",
    "mpl.rcParams['xtick.labelsize'] = 'x-large'\n",
    "mpl.rcParams['xtick.major.size'] = 5\n",
    "mpl.rcParams['xtick.major.width'] = 1.5\n",
    "mpl.rcParams['ytick.labelsize'] = 'x-large'\n",
    "mpl.rcParams['ytick.major.size'] = 5\n",
    "mpl.rcParams['ytick.major.width'] = 1.5\n",
    "mpl.rcParams['legend.frameon'] = False"
   ]
  },
  {
   "cell_type": "code",
   "execution_count": 4,
   "id": "ac5b30ff",
   "metadata": {},
   "outputs": [],
   "source": [
    "if torch.cuda.is_available(): device = 'cuda'\n",
    "else: device = 'cpu'"
   ]
  },
  {
   "cell_type": "markdown",
   "id": "78789cdb",
   "metadata": {},
   "source": [
    "## read compiled dataset"
   ]
  },
  {
   "cell_type": "code",
   "execution_count": 5,
   "id": "6dc890dc",
   "metadata": {},
   "outputs": [
    {
     "name": "stdout",
     "output_type": "stream",
     "text": [
      "74288 entries; 14729 unique zipcodes\n"
     ]
    }
   ],
   "source": [
    "data = aTable.Table.read('/scratch/gpfs/chhahn/noah/zipcode.fema.fsf.acs.rainfall.v2.csv', format='csv')\n",
    "print('%i entries; %i unique zipcodes' % (len(data), len(np.unique(data['reportedZipcode']))))"
   ]
  },
  {
   "cell_type": "code",
   "execution_count": 6,
   "id": "5b85b1d0",
   "metadata": {},
   "outputs": [
    {
     "name": "stdout",
     "output_type": "stream",
     "text": [
      "43644 entries in control; 11258 unique zipcodes\n",
      "30644 entries in control; 5040 unique zipcodes\n"
     ]
    }
   ],
   "source": [
    "control = (data['communityRatingSystemDiscount'] == 11.)\n",
    "print(f\"{np.sum(control)} entries in control; {len(np.unique(data['reportedZipcode'][control]))} unique zipcodes\")\n",
    "\n",
    "treat = (data['communityRatingSystemDiscount'] < 11.)\n",
    "print(f\"{np.sum(treat)} entries in control; {len(np.unique(data['reportedZipcode'][treat]))} unique zipcodes\")"
   ]
  },
  {
   "cell_type": "code",
   "execution_count": 7,
   "id": "552700c2",
   "metadata": {},
   "outputs": [],
   "source": [
    "columns = ['amountPaidOnTotalClaim_per_policy', 'mean_rainfall', 'avg_risk_score_all', \n",
    "           'median_household_income', 'population', 'renter_fraction', 'educated_fraction', 'white_fraction'] "
   ]
  },
  {
   "cell_type": "code",
   "execution_count": 8,
   "id": "66dd7061",
   "metadata": {},
   "outputs": [],
   "source": [
    "control_data = np.vstack([np.ma.getdata(data[col][control].data) for col in columns]).T\n",
    "control_data[:,0] = np.log10(control_data[:,0])\n",
    "control_data[:,3] = np.log10(control_data[:,3])\n",
    "control_data[:,4] = np.log10(control_data[:,4])\n",
    "\n",
    "treat_data = np.vstack([np.ma.getdata(data[col][treat].data) for col in columns]).T\n",
    "treat_data[:,0] = np.log10(treat_data[:,0])\n",
    "treat_data[:,3] = np.log10(treat_data[:,3])\n",
    "treat_data[:,4] = np.log10(treat_data[:,4])"
   ]
  },
  {
   "cell_type": "markdown",
   "id": "e95eec1b",
   "metadata": {},
   "source": [
    "## read $q^C_\\phi(Y\\,|\\,X)$ and $q^T_\\phi(Y\\,|\\,X)$"
   ]
  },
  {
   "cell_type": "code",
   "execution_count": 10,
   "id": "fcfcbc12",
   "metadata": {},
   "outputs": [],
   "source": [
    "def read_qphi(nde_name):\n",
    "    qphis = []\n",
    "    for fqphi in glob.glob('../dat/nde/%s/*.pt' % nde_name): \n",
    "        qphi = torch.load(fqphi, map_location=device)\n",
    "        qphis.append(qphi)\n",
    "    return qphis"
   ]
  },
  {
   "cell_type": "code",
   "execution_count": 11,
   "id": "2da14c77",
   "metadata": {},
   "outputs": [
    {
     "name": "stdout",
     "output_type": "stream",
     "text": [
      "2313 models trained\n",
      "[680, 1365, 1087, 78, 7]\n",
      "2609 models trained\n",
      "[462, 1287, 1547, 2243, 269]\n"
     ]
    }
   ],
   "source": [
    "qphis_control = read_qphi('qphi_control')\n",
    "qphis_treat = read_qphi('qphi_treat')"
   ]
  },
  {
   "cell_type": "markdown",
   "id": "3e1ead66",
   "metadata": {},
   "source": [
    "## validate $q^C_\\phi(Y\\,|\\,X)$ and $q^T_\\phi(Y\\,|\\,X)$ using DRP coverage test\n",
    "See [Lemos et al (2023)](https://ui.adsabs.harvard.edu/abs/2023PMLR..20219256L/abstract) for details on the DRP coverage test."
   ]
  },
  {
   "cell_type": "code",
   "execution_count": 37,
   "id": "b50bcfd0",
   "metadata": {},
   "outputs": [],
   "source": [
    "i_test_control = np.random.choice(np.arange(control_data.shape[0]), size=int(control_data.shape[0] * 0.1))\n",
    "i_test_treat = np.random.choice(np.arange(treat_data.shape[0]), size=int(treat_data.shape[0] * 0.1))"
   ]
  },
  {
   "cell_type": "code",
   "execution_count": 38,
   "id": "70d295c5",
   "metadata": {},
   "outputs": [
    {
     "data": {
      "application/vnd.jupyter.widget-view+json": {
       "model_id": "a67c91d623db43688c2cfa2fba5ee9e5",
       "version_major": 2,
       "version_minor": 0
      },
      "text/plain": [
       "  0%|          | 0/4364 [00:00<?, ?it/s]"
      ]
     },
     "metadata": {},
     "output_type": "display_data"
    },
    {
     "data": {
      "application/vnd.jupyter.widget-view+json": {
       "model_id": "1aac83ff632f45d0a45e80b0ec07a7df",
       "version_major": 2,
       "version_minor": 0
      },
      "text/plain": [
       "  0%|          | 0/3064 [00:00<?, ?it/s]"
      ]
     },
     "metadata": {},
     "output_type": "display_data"
    }
   ],
   "source": [
    "n_sample = 10000\n",
    "\n",
    "y_nde_control = []\n",
    "for i in tqdm(i_test_control): \n",
    "    y_samp = []\n",
    "    for qphi_control in qphis_control: \n",
    "        _samp = qphi_control.sample((int(n_sample/len(qphis_treat)),), \n",
    "                                    x=torch.tensor(control_data[i,1:], dtype=torch.float32).to(device), \n",
    "                                    show_progress_bars=False)\n",
    "        y_samp.append(_samp.detach().cpu().numpy())\n",
    "\n",
    "    y_nde_control.append(np.concatenate(np.array(y_samp), axis=0))        \n",
    "y_nde_control = np.array(y_nde_control)\n",
    "\n",
    "\n",
    "y_nde_treat = []\n",
    "for i in tqdm(i_test_treat): \n",
    "    y_samp = []\n",
    "    for qphi_treat in qphis_treat: \n",
    "        _samp = qphi_treat.sample((int(n_sample/len(qphis_treat)),), \n",
    "                                    x=torch.tensor(treat_data[i,1:], dtype=torch.float32).to(device), \n",
    "                                    show_progress_bars=False)\n",
    "        y_samp.append(_samp.detach().cpu().numpy())\n",
    "\n",
    "    y_nde_treat.append(np.concatenate(np.array(y_samp), axis=0))        \n",
    "y_nde_treat = np.array(y_nde_treat)"
   ]
  },
  {
   "cell_type": "code",
   "execution_count": 42,
   "id": "f28e475d",
   "metadata": {},
   "outputs": [
    {
     "data": {
      "image/png": "[encoded data removed]",
      "text/plain": [
       "<Figure size 432x432 with 1 Axes>"
      ]
     },
     "metadata": {
      "needs_background": "light"
     },
     "output_type": "display_data"
    }
   ],
   "source": [
    "fig, ax = plt.subplots(1, 1, figsize=(6,6))\n",
    "ax.plot([0, 1], [0, 1], ls=\"--\", color=\"k\")\n",
    "alpha, ecp = get_drp_coverage(np.swapaxes(y_nde_control, 0, 1), control_data[i_test_control,0][:,None], \n",
    "                              references=\"random\", metric=\"euclidean\")\n",
    "ax.plot(alpha, ecp, color='C0', label='control $q_C$') \n",
    "\n",
    "alpha, ecp = get_drp_coverage(np.swapaxes(y_nde_treat, 0, 1), treat_data[i_test_treat,0][:,None], \n",
    "                              references=\"random\", metric=\"euclidean\")\n",
    "ax.plot(alpha, ecp, color='C1', label='treated $q_T$')\n",
    "\n",
    "ax.legend(loc='lower right', handletextpad=0.1, fontsize=25)\n",
    "ax.set_ylabel(\"Expected Coverage\", fontsize=25)\n",
    "ax.set_ylim(0., 1.)\n",
    "ax.set_xlabel(\"Credibility Level\", fontsize=25)\n",
    "ax.set_xlim(0., 1.)\n",
    "fig.savefig('../figs/coverage_test.pdf', bbox_inches='tight')"
   ]
  },
  {
   "cell_type": "code",
   "execution_count": null,
   "id": "4087f2da",
   "metadata": {},
   "outputs": [],
   "source": []
  }
 ],
 "metadata": {
  "kernelspec": {
   "display_name": "sbi",
   "language": "python",
   "name": "sbi"
  },
  "language_info": {
   "codemirror_mode": {
    "name": "ipython",
    "version": 3
   },
   "file_extension": ".py",
   "mimetype": "text/x-python",
   "name": "python",
   "nbconvert_exporter": "python",
   "pygments_lexer": "ipython3",
   "version": "3.10.14"
  }
 },
 "nbformat": 4,
 "nbformat_minor": 5
}
